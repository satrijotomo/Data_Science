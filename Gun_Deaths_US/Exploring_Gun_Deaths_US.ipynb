{
 "cells": [
  {
   "cell_type": "markdown",
   "metadata": {
    "collapsed": true
   },
   "source": [
    "# Exploring Gun Deaths in the US"
   ]
  },
  {
   "cell_type": "markdown",
   "metadata": {},
   "source": [
    "The dataset came from FiveThirtyEight, and can be found at https://github.com/fivethirtyeight/guns-data. The dataset is stored in the guns.csv file and contains information on gun deaths in the US from 2012 to 2014. Each row in the dataset represents a single fatality. The columns contain demographic and other information about the victim. "
   ]
  },
  {
   "cell_type": "code",
   "execution_count": 27,
   "metadata": {
    "collapsed": false
   },
   "outputs": [
    {
     "name": "stdout",
     "output_type": "stream",
     "text": [
      "[['', 'year', 'month', 'intent', 'police', 'sex', 'age', 'race', 'hispanic', 'place', 'education'], ['1', '2012', '01', 'Suicide', '0', 'M', '34', 'Asian/Pacific Islander', '100', 'Home', '4'], ['2', '2012', '01', 'Suicide', '0', 'F', '21', 'White', '100', 'Street', '3'], ['3', '2012', '01', 'Suicide', '0', 'M', '60', 'White', '100', 'Other specified', '4'], ['4', '2012', '02', 'Suicide', '0', 'M', '64', 'White', '100', 'Home', '4']]\n"
     ]
    }
   ],
   "source": [
    "## Open and read the dataset file \"guns.csv\"\n",
    "import csv\n",
    "f = open(\"guns.csv\",\"r\")\n",
    "gunsdata = list(csv.reader(f))\n",
    "print(gunsdata[:5])"
   ]
  },
  {
   "cell_type": "code",
   "execution_count": 3,
   "metadata": {
    "collapsed": false
   },
   "outputs": [
    {
     "name": "stdout",
     "output_type": "stream",
     "text": [
      "['', 'year', 'month', 'intent', 'police', 'sex', 'age', 'race', 'hispanic', 'place', 'education']\n",
      "[['1', '2012', '01', 'Suicide', '0', 'M', '34', 'Asian/Pacific Islander', '100', 'Home', '4'], ['2', '2012', '01', 'Suicide', '0', 'F', '21', 'White', '100', 'Street', '3'], ['3', '2012', '01', 'Suicide', '0', 'M', '60', 'White', '100', 'Other specified', '4'], ['4', '2012', '02', 'Suicide', '0', 'M', '64', 'White', '100', 'Home', '4'], ['5', '2012', '02', 'Suicide', '0', 'M', '31', 'White', '100', 'Other specified', '2']]\n"
     ]
    }
   ],
   "source": [
    "## Extract header form data\n",
    "headers = gunsdata[0]\n",
    "print(headers)\n",
    "gunsdata = gunsdata[1:]\n",
    "print(gunsdata[:5])"
   ]
  },
  {
   "cell_type": "code",
   "execution_count": 4,
   "metadata": {
    "collapsed": false
   },
   "outputs": [
    {
     "name": "stdout",
     "output_type": "stream",
     "text": [
      "{'2014': 33599, '2012': 33563, '2013': 33636}\n"
     ]
    }
   ],
   "source": [
    "## Retrieve years and year counts\n",
    "years = [year[1] for year in gunsdata]\n",
    "year_counts = {}\n",
    "\n",
    "for row in years:\n",
    "    if row in year_counts:\n",
    "        year_counts[row] += 1\n",
    "    else:\n",
    "        year_counts[row] = 1\n",
    "        \n",
    "print(year_counts)"
   ]
  },
  {
   "cell_type": "markdown",
   "metadata": {},
   "source": [
    "### Count Gun Deaths Based on Month-Year"
   ]
  },
  {
   "cell_type": "code",
   "execution_count": 5,
   "metadata": {
    "collapsed": false
   },
   "outputs": [
    {
     "name": "stdout",
     "output_type": "stream",
     "text": [
      "[datetime.datetime(2012, 1, 1, 0, 0), datetime.datetime(2012, 1, 1, 0, 0), datetime.datetime(2012, 1, 1, 0, 0), datetime.datetime(2012, 2, 1, 0, 0), datetime.datetime(2012, 2, 1, 0, 0)]\n"
     ]
    }
   ],
   "source": [
    "## Create datetime list from data so that we can aggregate by month-year\n",
    "import datetime\n",
    "dates = [datetime.datetime(year=int(row[1]), month=int(row[2]) ,day=1) for row in gunsdata]      \n",
    "print(dates[:5])\n"
   ]
  },
  {
   "cell_type": "code",
   "execution_count": 6,
   "metadata": {
    "collapsed": false
   },
   "outputs": [
    {
     "name": "stdout",
     "output_type": "stream",
     "text": [
      "{datetime.datetime(2012, 1, 1, 0, 0): 2758,\n",
      " datetime.datetime(2012, 2, 1, 0, 0): 2357,\n",
      " datetime.datetime(2012, 3, 1, 0, 0): 2743,\n",
      " datetime.datetime(2012, 4, 1, 0, 0): 2795,\n",
      " datetime.datetime(2012, 5, 1, 0, 0): 2999,\n",
      " datetime.datetime(2012, 6, 1, 0, 0): 2826,\n",
      " datetime.datetime(2012, 7, 1, 0, 0): 3026,\n",
      " datetime.datetime(2012, 8, 1, 0, 0): 2954,\n",
      " datetime.datetime(2012, 9, 1, 0, 0): 2852,\n",
      " datetime.datetime(2012, 10, 1, 0, 0): 2733,\n",
      " datetime.datetime(2012, 11, 1, 0, 0): 2729,\n",
      " datetime.datetime(2012, 12, 1, 0, 0): 2791,\n",
      " datetime.datetime(2013, 1, 1, 0, 0): 2864,\n",
      " datetime.datetime(2013, 2, 1, 0, 0): 2375,\n",
      " datetime.datetime(2013, 3, 1, 0, 0): 2862,\n",
      " datetime.datetime(2013, 4, 1, 0, 0): 2798,\n",
      " datetime.datetime(2013, 5, 1, 0, 0): 2806,\n",
      " datetime.datetime(2013, 6, 1, 0, 0): 2920,\n",
      " datetime.datetime(2013, 7, 1, 0, 0): 3079,\n",
      " datetime.datetime(2013, 8, 1, 0, 0): 2859,\n",
      " datetime.datetime(2013, 9, 1, 0, 0): 2742,\n",
      " datetime.datetime(2013, 10, 1, 0, 0): 2808,\n",
      " datetime.datetime(2013, 11, 1, 0, 0): 2758,\n",
      " datetime.datetime(2013, 12, 1, 0, 0): 2765,\n",
      " datetime.datetime(2014, 1, 1, 0, 0): 2651,\n",
      " datetime.datetime(2014, 2, 1, 0, 0): 2361,\n",
      " datetime.datetime(2014, 3, 1, 0, 0): 2684,\n",
      " datetime.datetime(2014, 4, 1, 0, 0): 2862,\n",
      " datetime.datetime(2014, 5, 1, 0, 0): 2864,\n",
      " datetime.datetime(2014, 6, 1, 0, 0): 2931,\n",
      " datetime.datetime(2014, 7, 1, 0, 0): 2884,\n",
      " datetime.datetime(2014, 8, 1, 0, 0): 2970,\n",
      " datetime.datetime(2014, 9, 1, 0, 0): 2914,\n",
      " datetime.datetime(2014, 10, 1, 0, 0): 2865,\n",
      " datetime.datetime(2014, 11, 1, 0, 0): 2756,\n",
      " datetime.datetime(2014, 12, 1, 0, 0): 2857}\n"
     ]
    }
   ],
   "source": [
    "date_counts = {}\n",
    "for date in dates:\n",
    "    if date in date_counts:\n",
    "        date_counts[date] += 1\n",
    "    else:\n",
    "        date_counts[date] = 1\n",
    "\n",
    "from pprint import pprint\n",
    "pprint(date_counts)"
   ]
  },
  {
   "cell_type": "markdown",
   "metadata": {},
   "source": [
    "### Exploring Gun Deaths Based on Gender and Race"
   ]
  },
  {
   "cell_type": "code",
   "execution_count": 7,
   "metadata": {
    "collapsed": false
   },
   "outputs": [
    {
     "name": "stdout",
     "output_type": "stream",
     "text": [
      "{'F': 14449, 'M': 86349}\n"
     ]
    }
   ],
   "source": [
    "# Count by sex\n",
    "sexes = [row[5] for row in gunsdata]\n",
    "sex_counts = {}\n",
    "\n",
    "for sex in sexes:\n",
    "    if sex in sex_counts:\n",
    "        sex_counts[sex] += 1\n",
    "    else:\n",
    "        sex_counts[sex] = 1\n",
    "        \n",
    "pprint(sex_counts)"
   ]
  },
  {
   "cell_type": "code",
   "execution_count": 8,
   "metadata": {
    "collapsed": false
   },
   "outputs": [
    {
     "name": "stdout",
     "output_type": "stream",
     "text": [
      "{'Asian/Pacific Islander': 1326,\n",
      " 'Black': 23296,\n",
      " 'Hispanic': 9022,\n",
      " 'Native American/Native Alaskan': 917,\n",
      " 'White': 66237}\n"
     ]
    }
   ],
   "source": [
    "# Count by race\n",
    "races = [row[7] for row in gunsdata]\n",
    "race_counts = {}\n",
    "\n",
    "for race in races:\n",
    "    if race in race_counts:\n",
    "        race_counts[race] += 1\n",
    "    else:\n",
    "        race_counts[race] = 1\n",
    "        \n",
    "pprint(race_counts)"
   ]
  },
  {
   "cell_type": "markdown",
   "metadata": {
    "collapsed": true
   },
   "source": [
    "### What Have Been Discovered so Far\n",
    "1. There is no strong seasonality pattern shown by the data, although the number of victims increase a little bit during summer months.\n",
    "2. Gender wise, males are almost 6 times more likely to be victims compared to the females.\n",
    "3. White have the highest victim numbers compared to other race group in this data. However, it does not give the complete picture as we are lacking percentage of victims to the total population of each race. More data exploration and analysis are required."
   ]
  },
  {
   "cell_type": "markdown",
   "metadata": {},
   "source": [
    "### Import Census Data"
   ]
  },
  {
   "cell_type": "code",
   "execution_count": 9,
   "metadata": {
    "collapsed": false
   },
   "outputs": [
    {
     "name": "stdout",
     "output_type": "stream",
     "text": [
      "[['Id',\n",
      "  'Year',\n",
      "  'Id',\n",
      "  'Sex',\n",
      "  'Id',\n",
      "  'Hispanic Origin',\n",
      "  'Id',\n",
      "  'Id2',\n",
      "  'Geography',\n",
      "  'Total',\n",
      "  'Race Alone - White',\n",
      "  'Race Alone - Hispanic',\n",
      "  'Race Alone - Black or African American',\n",
      "  'Race Alone - American Indian and Alaska Native',\n",
      "  'Race Alone - Asian',\n",
      "  'Race Alone - Native Hawaiian and Other Pacific Islander',\n",
      "  'Two or More Races'],\n",
      " ['cen42010',\n",
      "  'April 1, 2010 Census',\n",
      "  'totsex',\n",
      "  'Both Sexes',\n",
      "  'tothisp',\n",
      "  'Total',\n",
      "  '0100000US',\n",
      "  '',\n",
      "  'United States',\n",
      "  '308745538',\n",
      "  '197318956',\n",
      "  '44618105',\n",
      "  '40250635',\n",
      "  '3739506',\n",
      "  '15159516',\n",
      "  '674625',\n",
      "  '6984195']]\n"
     ]
    }
   ],
   "source": [
    "cd = open(\"census.csv\",\"r\")\n",
    "cencus = list(csv.reader(cd))\n",
    "pprint(cencus)"
   ]
  },
  {
   "cell_type": "code",
   "execution_count": 12,
   "metadata": {
    "collapsed": false
   },
   "outputs": [
    {
     "name": "stdout",
     "output_type": "stream",
     "text": [
      "{'Asian/Pacific Islander': 15834141,\n",
      " 'Black': 40250635,\n",
      " 'Hispanic': 44618105,\n",
      " 'Native American/Native Alaskan': 3739506,\n",
      " 'White': 197318956}\n"
     ]
    }
   ],
   "source": [
    "mapping = {}\n",
    "mapping['Asian/Pacific Islander'] = (int(cencus[1][14]) + int(cencus[1][15]))\n",
    "mapping['Black'] = int(cencus[1][12])\n",
    "mapping['Native American/Native Alaskan'] = int(cencus[1][13])\n",
    "mapping['Hispanic'] = int(cencus[1][11])\n",
    "mapping['White'] = int(cencus[1][10])\n",
    "pprint(mapping)"
   ]
  },
  {
   "cell_type": "code",
   "execution_count": 23,
   "metadata": {
    "collapsed": false
   },
   "outputs": [
    {
     "name": "stdout",
     "output_type": "stream",
     "text": [
      "{'Asian/Pacific Islander': 8.374309664161762,\n",
      " 'Black': 57.8773477735196,\n",
      " 'Hispanic': 20.220491210910907,\n",
      " 'Native American/Native Alaskan': 24.521955573811088,\n",
      " 'White': 33.56849303419181}\n"
     ]
    }
   ],
   "source": [
    "race_per_hundredk = {}\n",
    "for k,v in race_counts.items():\n",
    "    result = 100000*(v/mapping[k])\n",
    "    race_per_hundredk[k] = result\n",
    "pprint(race_per_hundredk)"
   ]
  },
  {
   "cell_type": "markdown",
   "metadata": {},
   "source": [
    "With the new data, one can see that African American has the highest gun deaths rate per 100,000. On the opposite conundrum, Asian and Pacific Islanders have the lowest rate."
   ]
  },
  {
   "cell_type": "markdown",
   "metadata": {
    "collapsed": true
   },
   "source": [
    "### Restricting to the Homicide Intent"
   ]
  },
  {
   "cell_type": "code",
   "execution_count": 24,
   "metadata": {
    "collapsed": false
   },
   "outputs": [
    {
     "name": "stdout",
     "output_type": "stream",
     "text": [
      "{'Asian/Pacific Islander': 559,\n",
      " 'Black': 19510,\n",
      " 'Hispanic': 5634,\n",
      " 'Native American/Native Alaskan': 326,\n",
      " 'White': 9147}\n"
     ]
    }
   ],
   "source": [
    "intents = [row[3] for row in gunsdata]\n",
    "races = [row[7] for row in gunsdata]\n",
    "homicide_race_counts = {}\n",
    "\n",
    "for i,race in enumerate(races):\n",
    "    if intents[i] == 'Homicide':\n",
    "        if race in homicide_race_counts:\n",
    "            homicide_race_counts[race] += 1\n",
    "        else:\n",
    "            homicide_race_counts[race] = 1\n",
    "        \n",
    "pprint(homicide_race_counts)"
   ]
  },
  {
   "cell_type": "code",
   "execution_count": 25,
   "metadata": {
    "collapsed": false
   },
   "outputs": [
    {
     "name": "stdout",
     "output_type": "stream",
     "text": [
      "{'Asian/Pacific Islander': 3.530346230970155,\n",
      " 'Black': 48.471284987180944,\n",
      " 'Hispanic': 12.627161104219914,\n",
      " 'Native American/Native Alaskan': 8.717729026240365,\n",
      " 'White': 4.6356417981453335}\n"
     ]
    }
   ],
   "source": [
    "homicide_race_per_hundredk = {}\n",
    "for k,v in homicide_race_counts.items():\n",
    "    result = 100000*(v/mapping[k])\n",
    "    homicide_race_per_hundredk[k] = result\n",
    "pprint(homicide_race_per_hundredk)"
   ]
  },
  {
   "cell_type": "markdown",
   "metadata": {},
   "source": [
    "## Findings"
   ]
  },
  {
   "cell_type": "markdown",
   "metadata": {},
   "source": [
    "The last iteration shows that the homicide gun deaths disproportionally affect Black and Hispanic race categories.\n",
    "\n",
    "For further analysis, here are some potential next steps:\n",
    "1. Figure out the link, if any, between month and homicide rate.\n",
    "2. Explore the homicide rate by gender.\n",
    "3. Explore the rates of other intents, like Accidental, by gender and race.\n",
    "4. Find out if gun death rates correlate to location and education."
   ]
  },
  {
   "cell_type": "code",
   "execution_count": null,
   "metadata": {
    "collapsed": true
   },
   "outputs": [],
   "source": []
  }
 ],
 "metadata": {
  "kernelspec": {
   "display_name": "Python 3",
   "language": "python",
   "name": "python3"
  },
  "language_info": {
   "codemirror_mode": {
    "name": "ipython",
    "version": 3
   },
   "file_extension": ".py",
   "mimetype": "text/x-python",
   "name": "python",
   "nbconvert_exporter": "python",
   "pygments_lexer": "ipython3",
   "version": "3.4.3"
  }
 },
 "nbformat": 4,
 "nbformat_minor": 0
}
